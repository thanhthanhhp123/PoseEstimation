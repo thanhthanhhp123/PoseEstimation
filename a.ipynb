{
 "cells": [
  {
   "cell_type": "code",
   "execution_count": 4,
   "metadata": {},
   "outputs": [],
   "source": [
    "import os\n",
    "import sys\n",
    "\n",
    "links = ['https://drive.google.com/drive/folders/138z7UB0n-xlwrPP0yh1RL5q1a-ijOGNN',\n",
    "         'https://drive.google.com/drive/folders/13thmylEd1kh1Fy3W3QhEK_T97EqOEghs',\n",
    "         'https://drive.google.com/drive/folders/1-BkjKwB6pQQr5I0g3bFx9qvQ3bewZWqI',\n",
    "         'https://drive.google.com/drive/folders/1CPG_zgU5iqv4v6F-e7hNuDHoitcE5b3Q']"
   ]
  },
  {
   "cell_type": "code",
   "execution_count": 2,
   "metadata": {},
   "outputs": [
    {
     "name": "stdout",
     "output_type": "stream",
     "text": [
      "e:\\Project\\Pose\\NewVideos\n"
     ]
    }
   ],
   "source": [
    "%cd NewVideos"
   ]
  },
  {
   "cell_type": "code",
   "execution_count": 5,
   "metadata": {},
   "outputs": [],
   "source": [
    "import gdown\n",
    "\n",
    "for url in links:\n",
    "    gdown.download_folder(url, quiet=True, use_cookies=False)"
   ]
  },
  {
   "cell_type": "code",
   "execution_count": 8,
   "metadata": {},
   "outputs": [
    {
     "name": "stdout",
     "output_type": "stream",
     "text": [
      "e:\\Project\\Pose\n"
     ]
    }
   ],
   "source": [
    "%cd .."
   ]
  },
  {
   "cell_type": "code",
   "execution_count": 9,
   "metadata": {},
   "outputs": [
    {
     "name": "stdout",
     "output_type": "stream",
     "text": [
      "Đã xử lý video: NewVideos\\False\\20241210_172540.mp4, lưu 9167 frames vào newpics\\False\n",
      "Đã xử lý video: NewVideos\\False\\20241210_173847.mp4, lưu 9156 frames vào newpics\\False\n",
      "Đã xử lý video: NewVideos\\False\\video_20241209_181558.mp4, lưu 11287 frames vào newpics\\False\n",
      "Đã xử lý video: NewVideos\\False\\video_20241209_183021.mp4, lưu 7582 frames vào newpics\\False\n",
      "Đã xử lý video: NewVideos\\False\\video_20241209_184608.mp4, lưu 8497 frames vào newpics\\False\n",
      "Đã xử lý video: NewVideos\\False\\video_20241210_171248.mp4, lưu 9199 frames vào newpics\\False\n",
      "Đã xử lý video: NewVideos\\False\\video_20241210_173907.mp4, lưu 7592 frames vào newpics\\False\n",
      "Đã xử lý video: NewVideos\\False\\VIDEO_DOWNLOAD_1733747152664_1733940797995.mp4, lưu 10159 frames vào newpics\\False\n",
      "Đã xử lý video: NewVideos\\False\\VIDEO_DOWNLOAD_1733747152908_1733940783383.mp4, lưu 9084 frames vào newpics\\False\n",
      "Đã xử lý video: NewVideos\\False\\VIDEO_DOWNLOAD_1733747153229_1733940770998.mp4, lưu 11428 frames vào newpics\\False\n",
      "Đã xử lý video: NewVideos\\False\\VIDEO_DOWNLOAD_1733827089485_1733901731935.mp4, lưu 9168 frames vào newpics\\False\n",
      "Đã xử lý video: NewVideos\\False\\VIDEO_DOWNLOAD_1733827478983_1733940749065.mp4, lưu 9221 frames vào newpics\\False\n",
      "Đã xử lý video: NewVideos\\True\\20241210_170405.mp4, lưu 9563 frames vào newpics\\True\n",
      "Đã xử lý video: NewVideos\\True\\20241210_171228.mp4, lưu 11013 frames vào newpics\\True\n",
      "Đã xử lý video: NewVideos\\True\\20241210_172007.mp4, lưu 9595 frames vào newpics\\True\n",
      "Đã xử lý video: NewVideos\\True\\20241210_173142.mp4, lưu 9127 frames vào newpics\\True\n",
      "Đã xử lý video: NewVideos\\True\\video_20241209_181028.mp4, lưu 8989 frames vào newpics\\True\n",
      "Đã xử lý video: NewVideos\\True\\video_20241209_182442.mp4, lưu 8072 frames vào newpics\\True\n",
      "Đã xử lý video: NewVideos\\True\\video_20241209_184002.mp4, lưu 7910 frames vào newpics\\True\n",
      "Đã xử lý video: NewVideos\\True\\video_20241210_170432.mp4, lưu 9002 frames vào newpics\\True\n",
      "Đã xử lý video: NewVideos\\True\\VIDEO_DOWNLOAD_1733747152765_1733940788101.mp4, lưu 9514 frames vào newpics\\True\n",
      "Đã xử lý video: NewVideos\\True\\VIDEO_DOWNLOAD_1733747153043_1733940779161.mp4, lưu 9626 frames vào newpics\\True\n",
      "Đã xử lý video: NewVideos\\True\\VIDEO_DOWNLOAD_1733747153312_1733940758609.mp4, lưu 9068 frames vào newpics\\True\n",
      "Đã xử lý video: NewVideos\\True\\VIDEO_DOWNLOAD_1733827089389_1733940754344.mp4, lưu 9562 frames vào newpics\\True\n",
      "Đã xử lý video: NewVideos\\True\\VIDEO_DOWNLOAD_1733827089588_1733940744705.mp4, lưu 9110 frames vào newpics\\True\n",
      "Hoàn tất xử lý tất cả video!\n"
     ]
    }
   ],
   "source": [
    "import cv2\n",
    "import os\n",
    "\n",
    "input_folder = \"NewVideos\"\n",
    "output_folder = \"newpics\"\n",
    "\n",
    "os.makedirs(output_folder, exist_ok=True)\n",
    "\n",
    "\n",
    "for class_name in os.listdir(input_folder):\n",
    "    class_path = os.path.join(input_folder, class_name)\n",
    "    if not os.path.isdir(class_path):\n",
    "        continue \n",
    "\n",
    "    output_class_path = os.path.join(output_folder, class_name)\n",
    "    os.makedirs(output_class_path, exist_ok=True)\n",
    "\n",
    "\n",
    "    for video_name in os.listdir(class_path):\n",
    "        video_path = os.path.join(class_path, video_name)\n",
    "        if not video_name.endswith(('.mp4', '.avi', '.mov', '.mkv')): \n",
    "            continue\n",
    "\n",
    "        cap = cv2.VideoCapture(video_path)\n",
    "        if not cap.isOpened():\n",
    "            print(f\"Không thể mở video: {video_path}\")\n",
    "            continue\n",
    "        video_base_name = os.path.splitext(video_name)[0]\n",
    "\n",
    "        frame_count = 0\n",
    "        while True:\n",
    "            ret, frame = cap.read()\n",
    "            if not ret:\n",
    "                break\n",
    "\n",
    "            frame_filename = f\"{output_class_path}/{video_base_name}_frame_{frame_count:04d}.jpg\"\n",
    "            cv2.imwrite(frame_filename, frame)\n",
    "            frame_count += 1\n",
    "\n",
    "        cap.release()\n",
    "        print(f\"Đã xử lý video: {video_path}, lưu {frame_count} frames vào {output_class_path}\")\n",
    "\n",
    "print(\"Hoàn tất xử lý tất cả video!\")"
   ]
  },
  {
   "cell_type": "code",
   "execution_count": 1,
   "metadata": {},
   "outputs": [],
   "source": [
    "import mediapipe as mp\n",
    "from mediapipe.tasks import python\n",
    "from mediapipe.tasks.python import vision"
   ]
  },
  {
   "cell_type": "code",
   "execution_count": 2,
   "metadata": {},
   "outputs": [],
   "source": [
    "mp_pose = mp.solutions.pose\n",
    "pose = mp_pose.Pose(static_image_mode=True)\n",
    "mp_drawing = mp.solutions.drawing_utils"
   ]
  },
  {
   "cell_type": "code",
   "execution_count": 3,
   "metadata": {},
   "outputs": [],
   "source": [
    "import json\n",
    "def extract_keypoints(image_path, confidence_threshold=0.5):\n",
    "    image = cv2.imread(image_path)\n",
    "    image_rgb = cv2.cvtColor(image, cv2.COLOR_BGR2RGB)\n",
    "    result = pose.process(image_rgb)\n",
    "\n",
    "    if result.pose_landmarks:\n",
    "        keypoints = []\n",
    "        for lm in result.pose_landmarks.landmark:\n",
    "            keypoints.append([lm.x, lm.y, lm.visibility])\n",
    "        return keypoints\n",
    "    return None"
   ]
  },
  {
   "cell_type": "code",
   "execution_count": 4,
   "metadata": {},
   "outputs": [],
   "source": [
    "def process_folder(input_dir, output_dir):\n",
    "    \"\"\"\n",
    "    Process all images in a folder and save extracted keypoints as JSON files.\n",
    "\n",
    "    Args:\n",
    "        input_dir (str): Path to the folder containing images.\n",
    "        output_dir (str): Path to the folder to save JSON files.\n",
    "    \"\"\"\n",
    "    os.makedirs(output_dir, exist_ok=True)\n",
    "    for file_name in os.listdir(input_dir):\n",
    "        if file_name.endswith(('.jpg', '.png', '.jpeg')):\n",
    "            image_path = os.path.join(input_dir, file_name)\n",
    "            keypoints = extract_keypoints(image_path)\n",
    "            if keypoints:\n",
    "                json_path = os.path.join(output_dir, file_name.replace('.jpg', '.json'))\n",
    "                with open(json_path, 'w') as f:\n",
    "                    json.dump(keypoints, f)\n",
    "            else:\n",
    "                print(f\"Skipping {file_name}, no keypoints detected.\")\n",
    "                os.remove(image_path)"
   ]
  },
  {
   "cell_type": "code",
   "execution_count": null,
   "metadata": {},
   "outputs": [],
   "source": [
    "import os\n",
    "import cv2\n",
    "base_dir = r\"E:\\Project\\Pose\\newpics\"\n",
    "output_dir = r\"E:\\Project\\Pose\\keypoints_dataset_new\"\n",
    "for label in [\"True\", \"False\"]:\n",
    "    input_path = os.path.join(base_dir, label)\n",
    "    output_path = os.path.join(output_dir, label)\n",
    "    process_folder(input_path, output_path)"
   ]
  },
  {
   "cell_type": "code",
   "execution_count": null,
   "metadata": {},
   "outputs": [],
   "source": []
  }
 ],
 "metadata": {
  "kernelspec": {
   "display_name": "base",
   "language": "python",
   "name": "python3"
  },
  "language_info": {
   "codemirror_mode": {
    "name": "ipython",
    "version": 3
   },
   "file_extension": ".py",
   "mimetype": "text/x-python",
   "name": "python",
   "nbconvert_exporter": "python",
   "pygments_lexer": "ipython3",
   "version": "3.12.6"
  }
 },
 "nbformat": 4,
 "nbformat_minor": 2
}
