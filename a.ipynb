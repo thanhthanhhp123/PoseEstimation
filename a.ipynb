{
 "cells": [
  {
   "cell_type": "code",
   "execution_count": 4,
   "metadata": {},
   "outputs": [],
   "source": [
    "import os\n",
    "import sys\n",
    "\n",
    "links = ['https://drive.google.com/drive/folders/138z7UB0n-xlwrPP0yh1RL5q1a-ijOGNN',\n",
    "         'https://drive.google.com/drive/folders/13thmylEd1kh1Fy3W3QhEK_T97EqOEghs',\n",
    "         'https://drive.google.com/drive/folders/1-BkjKwB6pQQr5I0g3bFx9qvQ3bewZWqI',\n",
    "         'https://drive.google.com/drive/folders/1CPG_zgU5iqv4v6F-e7hNuDHoitcE5b3Q']"
   ]
  },
  {
   "cell_type": "code",
   "execution_count": 2,
   "metadata": {},
   "outputs": [
    {
     "name": "stdout",
     "output_type": "stream",
     "text": [
      "e:\\Project\\Pose\\NewVideos\n"
     ]
    }
   ],
   "source": [
    "%cd NewVideos"
   ]
  },
  {
   "cell_type": "code",
   "execution_count": 5,
   "metadata": {},
   "outputs": [],
   "source": [
    "import gdown\n",
    "\n",
    "for url in links:\n",
    "    gdown.download_folder(url, quiet=True, use_cookies=False)"
   ]
  },
  {
   "cell_type": "code",
   "execution_count": 8,
   "metadata": {},
   "outputs": [
    {
     "name": "stdout",
     "output_type": "stream",
     "text": [
      "e:\\Project\\Pose\n"
     ]
    }
   ],
   "source": [
    "%cd .."
   ]
  },
  {
   "cell_type": "code",
   "execution_count": 9,
   "metadata": {},
   "outputs": [
    {
     "name": "stdout",
     "output_type": "stream",
     "text": [
      "Đã xử lý video: NewVideos\\False\\20241210_172540.mp4, lưu 9167 frames vào newpics\\False\n",
      "Đã xử lý video: NewVideos\\False\\20241210_173847.mp4, lưu 9156 frames vào newpics\\False\n",
      "Đã xử lý video: NewVideos\\False\\video_20241209_181558.mp4, lưu 11287 frames vào newpics\\False\n",
      "Đã xử lý video: NewVideos\\False\\video_20241209_183021.mp4, lưu 7582 frames vào newpics\\False\n",
      "Đã xử lý video: NewVideos\\False\\video_20241209_184608.mp4, lưu 8497 frames vào newpics\\False\n",
      "Đã xử lý video: NewVideos\\False\\video_20241210_171248.mp4, lưu 9199 frames vào newpics\\False\n",
      "Đã xử lý video: NewVideos\\False\\video_20241210_173907.mp4, lưu 7592 frames vào newpics\\False\n",
      "Đã xử lý video: NewVideos\\False\\VIDEO_DOWNLOAD_1733747152664_1733940797995.mp4, lưu 10159 frames vào newpics\\False\n",
      "Đã xử lý video: NewVideos\\False\\VIDEO_DOWNLOAD_1733747152908_1733940783383.mp4, lưu 9084 frames vào newpics\\False\n",
      "Đã xử lý video: NewVideos\\False\\VIDEO_DOWNLOAD_1733747153229_1733940770998.mp4, lưu 11428 frames vào newpics\\False\n",
      "Đã xử lý video: NewVideos\\False\\VIDEO_DOWNLOAD_1733827089485_1733901731935.mp4, lưu 9168 frames vào newpics\\False\n",
      "Đã xử lý video: NewVideos\\False\\VIDEO_DOWNLOAD_1733827478983_1733940749065.mp4, lưu 9221 frames vào newpics\\False\n",
      "Đã xử lý video: NewVideos\\True\\20241210_170405.mp4, lưu 9563 frames vào newpics\\True\n",
      "Đã xử lý video: NewVideos\\True\\20241210_171228.mp4, lưu 11013 frames vào newpics\\True\n",
      "Đã xử lý video: NewVideos\\True\\20241210_172007.mp4, lưu 9595 frames vào newpics\\True\n",
      "Đã xử lý video: NewVideos\\True\\20241210_173142.mp4, lưu 9127 frames vào newpics\\True\n",
      "Đã xử lý video: NewVideos\\True\\video_20241209_181028.mp4, lưu 8989 frames vào newpics\\True\n",
      "Đã xử lý video: NewVideos\\True\\video_20241209_182442.mp4, lưu 8072 frames vào newpics\\True\n",
      "Đã xử lý video: NewVideos\\True\\video_20241209_184002.mp4, lưu 7910 frames vào newpics\\True\n",
      "Đã xử lý video: NewVideos\\True\\video_20241210_170432.mp4, lưu 9002 frames vào newpics\\True\n",
      "Đã xử lý video: NewVideos\\True\\VIDEO_DOWNLOAD_1733747152765_1733940788101.mp4, lưu 9514 frames vào newpics\\True\n",
      "Đã xử lý video: NewVideos\\True\\VIDEO_DOWNLOAD_1733747153043_1733940779161.mp4, lưu 9626 frames vào newpics\\True\n",
      "Đã xử lý video: NewVideos\\True\\VIDEO_DOWNLOAD_1733747153312_1733940758609.mp4, lưu 9068 frames vào newpics\\True\n",
      "Đã xử lý video: NewVideos\\True\\VIDEO_DOWNLOAD_1733827089389_1733940754344.mp4, lưu 9562 frames vào newpics\\True\n",
      "Đã xử lý video: NewVideos\\True\\VIDEO_DOWNLOAD_1733827089588_1733940744705.mp4, lưu 9110 frames vào newpics\\True\n",
      "Hoàn tất xử lý tất cả video!\n"
     ]
    }
   ],
   "source": [
    "import cv2\n",
    "import os\n",
    "\n",
    "input_folder = \"NewVideos\"\n",
    "output_folder = \"newpics\"\n",
    "\n",
    "os.makedirs(output_folder, exist_ok=True)\n",
    "\n",
    "\n",
    "for class_name in os.listdir(input_folder):\n",
    "    class_path = os.path.join(input_folder, class_name)\n",
    "    if not os.path.isdir(class_path):\n",
    "        continue \n",
    "\n",
    "    output_class_path = os.path.join(output_folder, class_name)\n",
    "    os.makedirs(output_class_path, exist_ok=True)\n",
    "\n",
    "\n",
    "    for video_name in os.listdir(class_path):\n",
    "        video_path = os.path.join(class_path, video_name)\n",
    "        if not video_name.endswith(('.mp4', '.avi', '.mov', '.mkv')): \n",
    "            continue\n",
    "\n",
    "        cap = cv2.VideoCapture(video_path)\n",
    "        if not cap.isOpened():\n",
    "            print(f\"Không thể mở video: {video_path}\")\n",
    "            continue\n",
    "        video_base_name = os.path.splitext(video_name)[0]\n",
    "\n",
    "        frame_count = 0\n",
    "        while True:\n",
    "            ret, frame = cap.read()\n",
    "            if not ret:\n",
    "                break\n",
    "\n",
    "            frame_filename = f\"{output_class_path}/{video_base_name}_frame_{frame_count:04d}.jpg\"\n",
    "            cv2.imwrite(frame_filename, frame)\n",
    "            frame_count += 1\n",
    "\n",
    "        cap.release()\n",
    "        print(f\"Đã xử lý video: {video_path}, lưu {frame_count} frames vào {output_class_path}\")\n",
    "\n",
    "print(\"Hoàn tất xử lý tất cả video!\")"
   ]
  },
  {
   "cell_type": "code",
   "execution_count": 1,
   "metadata": {},
   "outputs": [],
   "source": [
    "import mediapipe as mp\n",
    "from mediapipe.tasks import python\n",
    "from mediapipe.tasks.python import vision"
   ]
  },
  {
   "cell_type": "code",
   "execution_count": 2,
   "metadata": {},
   "outputs": [],
   "source": [
    "mp_pose = mp.solutions.pose\n",
    "pose = mp_pose.Pose(static_image_mode=True)\n",
    "mp_drawing = mp.solutions.drawing_utils"
   ]
  },
  {
   "cell_type": "code",
   "execution_count": 3,
   "metadata": {},
   "outputs": [],
   "source": [
    "import json\n",
    "def extract_keypoints(image_path, confidence_threshold=0.5):\n",
    "    image = cv2.imread(image_path)\n",
    "    image_rgb = cv2.cvtColor(image, cv2.COLOR_BGR2RGB)\n",
    "    result = pose.process(image_rgb)\n",
    "\n",
    "    if result.pose_landmarks:\n",
    "        keypoints = []\n",
    "        for lm in result.pose_landmarks.landmark:\n",
    "            keypoints.append([lm.x, lm.y, lm.visibility])\n",
    "        return keypoints\n",
    "    return None"
   ]
  },
  {
   "cell_type": "code",
   "execution_count": 4,
   "metadata": {},
   "outputs": [],
   "source": [
    "def process_folder(input_dir, output_dir):\n",
    "    \"\"\"\n",
    "    Process all images in a folder and save extracted keypoints as JSON files.\n",
    "\n",
    "    Args:\n",
    "        input_dir (str): Path to the folder containing images.\n",
    "        output_dir (str): Path to the folder to save JSON files.\n",
    "    \"\"\"\n",
    "    os.makedirs(output_dir, exist_ok=True)\n",
    "    for file_name in os.listdir(input_dir):\n",
    "        if file_name.endswith(('.jpg', '.png', '.jpeg')):\n",
    "            image_path = os.path.join(input_dir, file_name)\n",
    "            keypoints = extract_keypoints(image_path)\n",
    "            if keypoints:\n",
    "                json_path = os.path.join(output_dir, file_name.replace('.jpg', '.json'))\n",
    "                with open(json_path, 'w') as f:\n",
    "                    json.dump(keypoints, f)\n",
    "            else:\n",
    "                print(f\"Skipping {file_name}, no keypoints detected.\")\n",
    "                os.remove(image_path)"
   ]
  },
  {
   "cell_type": "code",
   "execution_count": 5,
   "metadata": {},
   "outputs": [
    {
     "ename": "KeyboardInterrupt",
     "evalue": "",
     "output_type": "error",
     "traceback": [
      "\u001b[1;31m---------------------------------------------------------------------------\u001b[0m",
      "\u001b[1;31mKeyboardInterrupt\u001b[0m                         Traceback (most recent call last)",
      "Cell \u001b[1;32mIn[5], line 8\u001b[0m\n\u001b[0;32m      6\u001b[0m input_path \u001b[38;5;241m=\u001b[39m os\u001b[38;5;241m.\u001b[39mpath\u001b[38;5;241m.\u001b[39mjoin(base_dir, label)\n\u001b[0;32m      7\u001b[0m output_path \u001b[38;5;241m=\u001b[39m os\u001b[38;5;241m.\u001b[39mpath\u001b[38;5;241m.\u001b[39mjoin(output_dir, label)\n\u001b[1;32m----> 8\u001b[0m process_folder(input_path, output_path)\n",
      "Cell \u001b[1;32mIn[4], line 13\u001b[0m, in \u001b[0;36mprocess_folder\u001b[1;34m(input_dir, output_dir)\u001b[0m\n\u001b[0;32m     11\u001b[0m \u001b[38;5;28;01mif\u001b[39;00m file_name\u001b[38;5;241m.\u001b[39mendswith((\u001b[38;5;124m'\u001b[39m\u001b[38;5;124m.jpg\u001b[39m\u001b[38;5;124m'\u001b[39m, \u001b[38;5;124m'\u001b[39m\u001b[38;5;124m.png\u001b[39m\u001b[38;5;124m'\u001b[39m, \u001b[38;5;124m'\u001b[39m\u001b[38;5;124m.jpeg\u001b[39m\u001b[38;5;124m'\u001b[39m)):\n\u001b[0;32m     12\u001b[0m     image_path \u001b[38;5;241m=\u001b[39m os\u001b[38;5;241m.\u001b[39mpath\u001b[38;5;241m.\u001b[39mjoin(input_dir, file_name)\n\u001b[1;32m---> 13\u001b[0m     keypoints \u001b[38;5;241m=\u001b[39m extract_keypoints(image_path)\n\u001b[0;32m     14\u001b[0m     \u001b[38;5;28;01mif\u001b[39;00m keypoints:\n\u001b[0;32m     15\u001b[0m         json_path \u001b[38;5;241m=\u001b[39m os\u001b[38;5;241m.\u001b[39mpath\u001b[38;5;241m.\u001b[39mjoin(output_dir, file_name\u001b[38;5;241m.\u001b[39mreplace(\u001b[38;5;124m'\u001b[39m\u001b[38;5;124m.jpg\u001b[39m\u001b[38;5;124m'\u001b[39m, \u001b[38;5;124m'\u001b[39m\u001b[38;5;124m.json\u001b[39m\u001b[38;5;124m'\u001b[39m))\n",
      "Cell \u001b[1;32mIn[3], line 5\u001b[0m, in \u001b[0;36mextract_keypoints\u001b[1;34m(image_path, confidence_threshold)\u001b[0m\n\u001b[0;32m      3\u001b[0m image \u001b[38;5;241m=\u001b[39m cv2\u001b[38;5;241m.\u001b[39mimread(image_path)\n\u001b[0;32m      4\u001b[0m image_rgb \u001b[38;5;241m=\u001b[39m cv2\u001b[38;5;241m.\u001b[39mcvtColor(image, cv2\u001b[38;5;241m.\u001b[39mCOLOR_BGR2RGB)\n\u001b[1;32m----> 5\u001b[0m result \u001b[38;5;241m=\u001b[39m pose\u001b[38;5;241m.\u001b[39mprocess(image_rgb)\n\u001b[0;32m      7\u001b[0m \u001b[38;5;28;01mif\u001b[39;00m result\u001b[38;5;241m.\u001b[39mpose_landmarks:\n\u001b[0;32m      8\u001b[0m     keypoints \u001b[38;5;241m=\u001b[39m []\n",
      "File \u001b[1;32mc:\\Users\\thanh\\AppData\\Local\\anaconda3\\Lib\\site-packages\\mediapipe\\python\\solutions\\pose.py:185\u001b[0m, in \u001b[0;36mPose.process\u001b[1;34m(self, image)\u001b[0m\n\u001b[0;32m    164\u001b[0m \u001b[38;5;28;01mdef\u001b[39;00m \u001b[38;5;21mprocess\u001b[39m(\u001b[38;5;28mself\u001b[39m, image: np\u001b[38;5;241m.\u001b[39mndarray) \u001b[38;5;241m-\u001b[39m\u001b[38;5;241m>\u001b[39m NamedTuple:\n\u001b[0;32m    165\u001b[0m \u001b[38;5;250m  \u001b[39m\u001b[38;5;124;03m\"\"\"Processes an RGB image and returns the pose landmarks on the most prominent person detected.\u001b[39;00m\n\u001b[0;32m    166\u001b[0m \n\u001b[0;32m    167\u001b[0m \u001b[38;5;124;03m  Args:\u001b[39;00m\n\u001b[1;32m   (...)\u001b[0m\n\u001b[0;32m    182\u001b[0m \u001b[38;5;124;03m         \"enable_segmentation\" is set to true.\u001b[39;00m\n\u001b[0;32m    183\u001b[0m \u001b[38;5;124;03m  \"\"\"\u001b[39;00m\n\u001b[1;32m--> 185\u001b[0m   results \u001b[38;5;241m=\u001b[39m \u001b[38;5;28msuper\u001b[39m()\u001b[38;5;241m.\u001b[39mprocess(input_data\u001b[38;5;241m=\u001b[39m{\u001b[38;5;124m'\u001b[39m\u001b[38;5;124mimage\u001b[39m\u001b[38;5;124m'\u001b[39m: image})\n\u001b[0;32m    186\u001b[0m   \u001b[38;5;28;01mif\u001b[39;00m results\u001b[38;5;241m.\u001b[39mpose_landmarks:  \u001b[38;5;66;03m# pytype: disable=attribute-error\u001b[39;00m\n\u001b[0;32m    187\u001b[0m     \u001b[38;5;28;01mfor\u001b[39;00m landmark \u001b[38;5;129;01min\u001b[39;00m results\u001b[38;5;241m.\u001b[39mpose_landmarks\u001b[38;5;241m.\u001b[39mlandmark:  \u001b[38;5;66;03m# pytype: disable=attribute-error\u001b[39;00m\n",
      "File \u001b[1;32mc:\\Users\\thanh\\AppData\\Local\\anaconda3\\Lib\\site-packages\\mediapipe\\python\\solution_base.py:340\u001b[0m, in \u001b[0;36mSolutionBase.process\u001b[1;34m(self, input_data)\u001b[0m\n\u001b[0;32m    334\u001b[0m   \u001b[38;5;28;01melse\u001b[39;00m:\n\u001b[0;32m    335\u001b[0m     \u001b[38;5;28mself\u001b[39m\u001b[38;5;241m.\u001b[39m_graph\u001b[38;5;241m.\u001b[39madd_packet_to_input_stream(\n\u001b[0;32m    336\u001b[0m         stream\u001b[38;5;241m=\u001b[39mstream_name,\n\u001b[0;32m    337\u001b[0m         packet\u001b[38;5;241m=\u001b[39m\u001b[38;5;28mself\u001b[39m\u001b[38;5;241m.\u001b[39m_make_packet(input_stream_type,\n\u001b[0;32m    338\u001b[0m                                  data)\u001b[38;5;241m.\u001b[39mat(\u001b[38;5;28mself\u001b[39m\u001b[38;5;241m.\u001b[39m_simulated_timestamp))\n\u001b[1;32m--> 340\u001b[0m \u001b[38;5;28mself\u001b[39m\u001b[38;5;241m.\u001b[39m_graph\u001b[38;5;241m.\u001b[39mwait_until_idle()\n\u001b[0;32m    341\u001b[0m \u001b[38;5;66;03m# Create a NamedTuple object where the field names are mapping to the graph\u001b[39;00m\n\u001b[0;32m    342\u001b[0m \u001b[38;5;66;03m# output stream names.\u001b[39;00m\n\u001b[0;32m    343\u001b[0m \u001b[38;5;28;01mif\u001b[39;00m \u001b[38;5;28mself\u001b[39m\u001b[38;5;241m.\u001b[39m_output_stream_type_info \u001b[38;5;129;01mis\u001b[39;00m \u001b[38;5;28;01mNone\u001b[39;00m:\n",
      "\u001b[1;31mKeyboardInterrupt\u001b[0m: "
     ]
    }
   ],
   "source": [
    "import os\n",
    "import cv2\n",
    "base_dir = r\"E:\\Project\\Pose\\newpics\"\n",
    "output_dir = r\"E:\\Project\\Pose\\keypoints_dataset_new\"\n",
    "for label in [\"False\"]:\n",
    "    input_path = os.path.join(base_dir, label)\n",
    "    output_path = os.path.join(output_dir, label)\n",
    "    process_folder(input_path, output_path)"
   ]
  },
  {
   "cell_type": "code",
   "execution_count": null,
   "metadata": {},
   "outputs": [],
   "source": [
    "import os\n",
    "\n",
    "print(len(os.listdir(\"keypoints_dataset_new/False\")))"
   ]
  }
 ],
 "metadata": {
  "kernelspec": {
   "display_name": "base",
   "language": "python",
   "name": "python3"
  },
  "language_info": {
   "codemirror_mode": {
    "name": "ipython",
    "version": 3
   },
   "file_extension": ".py",
   "mimetype": "text/x-python",
   "name": "python",
   "nbconvert_exporter": "python",
   "pygments_lexer": "ipython3",
   "version": "3.12.6"
  }
 },
 "nbformat": 4,
 "nbformat_minor": 2
}
